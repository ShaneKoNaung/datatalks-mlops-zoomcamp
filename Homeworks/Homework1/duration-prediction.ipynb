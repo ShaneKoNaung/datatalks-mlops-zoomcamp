{
 "cells": [
  {
   "cell_type": "markdown",
   "id": "80e57997",
   "metadata": {},
   "source": [
    "# Imports"
   ]
  },
  {
   "cell_type": "code",
   "execution_count": 1,
   "id": "41062d8a",
   "metadata": {},
   "outputs": [],
   "source": [
    "import pandas as pd"
   ]
  },
  {
   "cell_type": "code",
   "execution_count": 2,
   "id": "8b135c2b",
   "metadata": {},
   "outputs": [],
   "source": [
    "from sklearn.feature_extraction import DictVectorizer\n",
    "from sklearn.metrics import mean_squared_error\n",
    "from sklearn.linear_model import LinearRegression"
   ]
  },
  {
   "cell_type": "markdown",
   "id": "3bd517af",
   "metadata": {},
   "source": [
    "# Q1. Downloading the data"
   ]
  },
  {
   "cell_type": "code",
   "execution_count": 3,
   "id": "8e013caf",
   "metadata": {},
   "outputs": [
    {
     "name": "stdout",
     "output_type": "stream",
     "text": [
      "Number of columns for Jan: 19\n"
     ]
    }
   ],
   "source": [
    "df = pd.read_parquet('./data/yellow_tripdata_2022-01.parquet')\n",
    "\n",
    "print(f\"Number of columns for Jan: {len(df.columns)}\")\n",
    "\n"
   ]
  },
  {
   "cell_type": "markdown",
   "id": "46d5918b",
   "metadata": {},
   "source": [
    "# Q2. Computing duration"
   ]
  },
  {
   "cell_type": "code",
   "execution_count": 4,
   "id": "b25ca68b",
   "metadata": {},
   "outputs": [
    {
     "name": "stdout",
     "output_type": "stream",
     "text": [
      "Standard Deviation of duration : 46.44530513776499\n"
     ]
    }
   ],
   "source": [
    "df['duration'] = df.tpep_dropoff_datetime - df.tpep_pickup_datetime\n",
    "df.duration = df.duration.apply(lambda x: x.total_seconds() / 60)\n",
    "\n",
    "std = df.duration.std()\n",
    "\n",
    "print(f\"Standard Deviation of duration : {std}\")"
   ]
  },
  {
   "cell_type": "markdown",
   "id": "69093945",
   "metadata": {},
   "source": [
    "# Q3. Dropping outliers\n"
   ]
  },
  {
   "cell_type": "code",
   "execution_count": 5,
   "id": "41308306",
   "metadata": {},
   "outputs": [
    {
     "name": "stdout",
     "output_type": "stream",
     "text": [
      "Fraction of records left after dropping the outliers : 98.27547930522405\n"
     ]
    }
   ],
   "source": [
    "before = len(df.duration)\n",
    "\n",
    "df = df[(df.duration >= 1) & (df.duration <= 60)]\n",
    "\n",
    "after = len(df.duration)\n",
    "\n",
    "print(f\"Fraction of records left after dropping the outliers : {after / before * 100}\")"
   ]
  },
  {
   "cell_type": "markdown",
   "id": "00ee2db1",
   "metadata": {},
   "source": [
    "# Q4. One-hot encoding\n"
   ]
  },
  {
   "cell_type": "code",
   "execution_count": 6,
   "id": "116ff0cc",
   "metadata": {},
   "outputs": [
    {
     "name": "stdout",
     "output_type": "stream",
     "text": [
      "Dimensionality of the matrix : 515\n"
     ]
    }
   ],
   "source": [
    "categorical = [\"PULocationID\", \"DOLocationID\"]\n",
    "\n",
    "df[categorical] = df[categorical].astype(str)\n",
    "\n",
    "train_dicts = df[categorical].to_dict(orient='records')\n",
    "\n",
    "dv = DictVectorizer()\n",
    "X_train = dv.fit_transform(train_dicts)\n",
    "\n",
    "print(f\"Dimensionality of the matrix : {X_train.shape[1]}\")"
   ]
  },
  {
   "cell_type": "markdown",
   "id": "1ff35bf0",
   "metadata": {},
   "source": [
    "# Q5. Training a model\n"
   ]
  },
  {
   "cell_type": "code",
   "execution_count": 7,
   "id": "1e9fb68b",
   "metadata": {},
   "outputs": [],
   "source": [
    "target = 'duration'\n",
    "y_train = df[target].values\n"
   ]
  },
  {
   "cell_type": "code",
   "execution_count": 8,
   "id": "429e2394",
   "metadata": {},
   "outputs": [
    {
     "name": "stdout",
     "output_type": "stream",
     "text": [
      "RMSE Train : 6.9861908469917315\n"
     ]
    }
   ],
   "source": [
    "lr = LinearRegression()\n",
    "lr.fit(X_train, y_train)\n",
    "\n",
    "y_pred = lr.predict(X_train)\n",
    "\n",
    "print(f\"RMSE Train : {mean_squared_error(y_train, y_pred, squared=False)}\")\n"
   ]
  },
  {
   "cell_type": "markdown",
   "id": "8f59ddf6",
   "metadata": {},
   "source": [
    "# Q6. Evaluating the model\n"
   ]
  },
  {
   "cell_type": "code",
   "execution_count": 9,
   "id": "e51e6275",
   "metadata": {},
   "outputs": [
    {
     "name": "stdout",
     "output_type": "stream",
     "text": [
      "RMSE Validation : 7.786406838555644\n"
     ]
    }
   ],
   "source": [
    "df = pd.read_parquet('./data/yellow_tripdata_2022-02.parquet')\n",
    "df['duration'] = df.tpep_dropoff_datetime - df.tpep_pickup_datetime\n",
    "df.duration = df.duration.apply(lambda x: x.total_seconds() / 60)\n",
    "df = df[(df.duration >= 1) & (df.duration <= 60)]\n",
    "\n",
    "categorical = [\"PULocationID\", \"DOLocationID\"]\n",
    "\n",
    "df[categorical] = df[categorical].astype(str)\n",
    "\n",
    "val_dicts = df[categorical].to_dict(orient='records')\n",
    "\n",
    "X_val = dv.transform(val_dicts)\n",
    "\n",
    "target = 'duration'\n",
    "y_val = df[target].values\n",
    "\n",
    "y_pred = lr.predict(X_val)\n",
    "\n",
    "print(f\"RMSE Validation : {mean_squared_error(y_val, y_pred, squared=False)}\")\n"
   ]
  },
  {
   "cell_type": "code",
   "execution_count": null,
   "id": "6835da62",
   "metadata": {},
   "outputs": [],
   "source": []
  }
 ],
 "metadata": {
  "kernelspec": {
   "display_name": "Python 3",
   "language": "python",
   "name": "python3"
  },
  "language_info": {
   "codemirror_mode": {
    "name": "ipython",
    "version": 3
   },
   "file_extension": ".py",
   "mimetype": "text/x-python",
   "name": "python",
   "nbconvert_exporter": "python",
   "pygments_lexer": "ipython3",
   "version": "3.9.13"
  }
 },
 "nbformat": 4,
 "nbformat_minor": 5
}
