{
 "cells": [
  {
   "cell_type": "markdown",
   "id": "6d087f4e",
   "metadata": {},
   "source": [
    "# Q1. Install the package\n"
   ]
  },
  {
   "cell_type": "code",
   "execution_count": 1,
   "id": "9aba2017",
   "metadata": {},
   "outputs": [
    {
     "name": "stdout",
     "output_type": "stream",
     "text": [
      "/usr/lib/python3/dist-packages/requests/__init__.py:89: RequestsDependencyWarning: urllib3 (1.26.16) or chardet (3.0.4) doesn't match a supported version!\n",
      "  warnings.warn(\"urllib3 ({}) or chardet ({}) doesn't match a supported \"\n",
      "mlflow, version 2.3.2\n"
     ]
    }
   ],
   "source": [
    "!mlflow --version"
   ]
  },
  {
   "cell_type": "markdown",
   "id": "5c163bc9",
   "metadata": {},
   "source": [
    "# Q2. Download and preprocess the data\n"
   ]
  },
  {
   "cell_type": "code",
   "execution_count": 2,
   "id": "a0a82894",
   "metadata": {},
   "outputs": [],
   "source": [
    "taxi_data_folder = \"./data/\"\n",
    "\n",
    "!python preprocess_data.py --raw_data_path $taxi_data_folder --dest_path ./output"
   ]
  },
  {
   "cell_type": "code",
   "execution_count": 3,
   "id": "8b44c040",
   "metadata": {},
   "outputs": [
    {
     "name": "stdout",
     "output_type": "stream",
     "text": [
      "[PosixPath('output/dv.pkl'), PosixPath('output/val.pkl'), PosixPath('output/test.pkl'), PosixPath('output/train.pkl')]\n",
      "\n",
      "DictVectorizer file size is 150.05859375 KB\n"
     ]
    }
   ],
   "source": [
    "from pathlib import Path\n",
    "\n",
    "output_fld = Path(\"./output/\")\n",
    "\n",
    "print(list(output_fld.iterdir()), end='\\n\\n')\n",
    "\n",
    "dict_vectorizer_file = output_fld.joinpath(\"dv.pkl\")\n",
    "\n",
    "print(f\"DictVectorizer file size is {dict_vectorizer_file.stat().st_size / 1024} KB\")"
   ]
  },
  {
   "cell_type": "markdown",
   "id": "ad25c9e9",
   "metadata": {},
   "source": [
    "# Q3. Train a model with autolog\n"
   ]
  },
  {
   "cell_type": "code",
   "execution_count": 4,
   "id": "cd092939",
   "metadata": {},
   "outputs": [
    {
     "name": "stdout",
     "output_type": "stream",
     "text": [
      "2023/06/01 16:18:23 INFO mlflow.tracking.fluent: Experiment with name 'random-forest-regressor' does not exist. Creating a new experiment.\n",
      "2023/06/01 16:18:32 WARNING mlflow.utils.autologging_utils: MLflow autologging encountered a warning: \"/home/shane/miniconda3/envs/mlflow-env/lib/python3.11/site-packages/_distutils_hack/__init__.py:33: UserWarning: Setuptools is replacing distutils.\"\n"
     ]
    }
   ],
   "source": [
    "!python train.py"
   ]
  },
  {
   "cell_type": "markdown",
   "id": "9095e433",
   "metadata": {},
   "source": [
    "![mlflow ui](img/mlflow1.png)"
   ]
  },
  {
   "cell_type": "markdown",
   "id": "dcb62eb5",
   "metadata": {},
   "source": [
    "![mlflow ui](img/mlflow2.png)"
   ]
  },
  {
   "cell_type": "markdown",
   "id": "b4295ccf",
   "metadata": {},
   "source": [
    "What is the value of the max_depth parameter:\n",
    "\n",
    "The value of the max_depth parameter is *10*."
   ]
  },
  {
   "cell_type": "markdown",
   "id": "510ce5d0",
   "metadata": {},
   "source": [
    "![max_depth](img/mlflow3.png)"
   ]
  },
  {
   "cell_type": "markdown",
   "id": "18f02466",
   "metadata": {},
   "source": [
    "# Q4. Tune model hyperparameters\n"
   ]
  },
  {
   "cell_type": "code",
   "execution_count": 6,
   "id": "ea359cb4",
   "metadata": {},
   "outputs": [],
   "source": [
    "# !pip install optuna"
   ]
  },
  {
   "cell_type": "code",
   "execution_count": 7,
   "id": "b9cd970f",
   "metadata": {},
   "outputs": [
    {
     "name": "stdout",
     "output_type": "stream",
     "text": [
      "2023/06/01 16:22:01 INFO mlflow.tracking.fluent: Experiment with name 'random-forest-hyperopt' does not exist. Creating a new experiment.\n",
      "\u001b[32m[I 2023-06-01 16:22:01,827]\u001b[0m A new study created in memory with name: no-name-dd5c1df4-5779-4d3d-864f-149a0fbc13f2\u001b[0m\n",
      "\u001b[32m[I 2023-06-01 16:22:02,979]\u001b[0m Trial 0 finished with value: 2.451379690825458 and parameters: {'n_estimators': 25, 'max_depth': 20, 'min_samples_split': 8, 'min_samples_leaf': 3}. Best is trial 0 with value: 2.451379690825458.\u001b[0m\n",
      "\u001b[32m[I 2023-06-01 16:22:03,194]\u001b[0m Trial 1 finished with value: 2.4667366020368333 and parameters: {'n_estimators': 16, 'max_depth': 4, 'min_samples_split': 2, 'min_samples_leaf': 4}. Best is trial 0 with value: 2.451379690825458.\u001b[0m\n",
      "\u001b[32m[I 2023-06-01 16:22:04,290]\u001b[0m Trial 2 finished with value: 2.449827329704216 and parameters: {'n_estimators': 34, 'max_depth': 15, 'min_samples_split': 2, 'min_samples_leaf': 4}. Best is trial 2 with value: 2.449827329704216.\u001b[0m\n",
      "\u001b[32m[I 2023-06-01 16:22:04,692]\u001b[0m Trial 3 finished with value: 2.460983516558473 and parameters: {'n_estimators': 44, 'max_depth': 5, 'min_samples_split': 3, 'min_samples_leaf': 1}. Best is trial 2 with value: 2.449827329704216.\u001b[0m\n",
      "\u001b[32m[I 2023-06-01 16:22:05,309]\u001b[0m Trial 4 finished with value: 2.453877262701052 and parameters: {'n_estimators': 22, 'max_depth': 11, 'min_samples_split': 5, 'min_samples_leaf': 2}. Best is trial 2 with value: 2.449827329704216.\u001b[0m\n",
      "\u001b[32m[I 2023-06-01 16:22:05,665]\u001b[0m Trial 5 finished with value: 2.4720122094960733 and parameters: {'n_estimators': 35, 'max_depth': 3, 'min_samples_split': 4, 'min_samples_leaf': 2}. Best is trial 2 with value: 2.449827329704216.\u001b[0m\n",
      "\u001b[32m[I 2023-06-01 16:22:06,584]\u001b[0m Trial 6 finished with value: 2.4516421799356767 and parameters: {'n_estimators': 28, 'max_depth': 16, 'min_samples_split': 3, 'min_samples_leaf': 3}. Best is trial 2 with value: 2.449827329704216.\u001b[0m\n",
      "\u001b[32m[I 2023-06-01 16:22:06,781]\u001b[0m Trial 7 finished with value: 2.5374040268274087 and parameters: {'n_estimators': 34, 'max_depth': 1, 'min_samples_split': 7, 'min_samples_leaf': 1}. Best is trial 2 with value: 2.449827329704216.\u001b[0m\n",
      "\u001b[32m[I 2023-06-01 16:22:07,383]\u001b[0m Trial 8 finished with value: 2.455971238567075 and parameters: {'n_estimators': 12, 'max_depth': 19, 'min_samples_split': 10, 'min_samples_leaf': 4}. Best is trial 2 with value: 2.449827329704216.\u001b[0m\n",
      "\u001b[32m[I 2023-06-01 16:22:07,583]\u001b[0m Trial 9 finished with value: 2.486106021576535 and parameters: {'n_estimators': 22, 'max_depth': 2, 'min_samples_split': 8, 'min_samples_leaf': 2}. Best is trial 2 with value: 2.449827329704216.\u001b[0m\n"
     ]
    }
   ],
   "source": [
    "!python hpo.py"
   ]
  },
  {
   "cell_type": "markdown",
   "id": "93eaca22",
   "metadata": {},
   "source": [
    "The best validation RMSE score is 2.45"
   ]
  },
  {
   "cell_type": "markdown",
   "id": "8a8e3178",
   "metadata": {},
   "source": [
    "# Q5. Promote the best model to the model registry\n"
   ]
  },
  {
   "cell_type": "code",
   "execution_count": 8,
   "id": "d4c0f2f6",
   "metadata": {},
   "outputs": [
    {
     "name": "stdout",
     "output_type": "stream",
     "text": [
      "2023/06/01 16:22:19 INFO mlflow.tracking.fluent: Experiment with name 'random-forest-best-models' does not exist. Creating a new experiment.\n",
      "2023/06/01 16:22:22 WARNING mlflow.utils.autologging_utils: MLflow autologging encountered a warning: \"/home/shane/miniconda3/envs/mlflow-env/lib/python3.11/site-packages/_distutils_hack/__init__.py:33: UserWarning: Setuptools is replacing distutils.\"\n",
      "Successfully registered model 'NYC-GREEN-TAXI-Best'.\n",
      "2023/06/01 16:22:32 INFO mlflow.tracking._model_registry.client: Waiting up to 300 seconds for model version to finish creation. Model name: NYC-GREEN-TAXI-Best, version 1\n",
      "Created version '1' of model 'NYC-GREEN-TAXI-Best'.\n"
     ]
    }
   ],
   "source": [
    "!python register_model.py"
   ]
  },
  {
   "cell_type": "markdown",
   "id": "4de61296",
   "metadata": {},
   "source": [
    "The test RMSE of the best model is 2.291."
   ]
  },
  {
   "cell_type": "markdown",
   "id": "5320faa9",
   "metadata": {},
   "source": [
    "# Q6. Model metadata\n",
    "\n"
   ]
  },
  {
   "cell_type": "markdown",
   "id": "2ec10560",
   "metadata": {},
   "source": [
    "- Version number\n",
    "- Source experiment\n",
    "- Model signature\n",
    "- All the above answers are correct"
   ]
  },
  {
   "cell_type": "markdown",
   "id": "401c3355",
   "metadata": {},
   "source": [
    "The answer is \"All the above answers are correct\""
   ]
  }
 ],
 "metadata": {
  "kernelspec": {
   "display_name": "Python 3 (ipykernel)",
   "language": "python",
   "name": "python3"
  },
  "language_info": {
   "codemirror_mode": {
    "name": "ipython",
    "version": 3
   },
   "file_extension": ".py",
   "mimetype": "text/x-python",
   "name": "python",
   "nbconvert_exporter": "python",
   "pygments_lexer": "ipython3",
   "version": "3.11.3"
  }
 },
 "nbformat": 4,
 "nbformat_minor": 5
}
