{
 "cells": [
  {
   "cell_type": "markdown",
   "id": "5e7f3a5a",
   "metadata": {},
   "source": [
    "# Q1. Install the package\n"
   ]
  },
  {
   "cell_type": "code",
   "execution_count": 1,
   "id": "8cb3ba1d",
   "metadata": {},
   "outputs": [
    {
     "name": "stdout",
     "output_type": "stream",
     "text": [
      "/usr/lib/python3/dist-packages/requests/__init__.py:89: RequestsDependencyWarning: urllib3 (1.26.16) or chardet (3.0.4) doesn't match a supported version!\n",
      "  warnings.warn(\"urllib3 ({}) or chardet ({}) doesn't match a supported \"\n",
      "mlflow, version 2.3.2\n"
     ]
    }
   ],
   "source": [
    "!mlflow --version"
   ]
  },
  {
   "cell_type": "markdown",
   "id": "4dbc60e2",
   "metadata": {},
   "source": [
    "# Q2. Download and preprocess the data\n"
   ]
  },
  {
   "cell_type": "code",
   "execution_count": 2,
   "id": "9bca2da9",
   "metadata": {},
   "outputs": [],
   "source": [
    "taxi_data_folder = \"./data/\"\n",
    "\n",
    "!python preprocess_data.py --raw_data_path $taxi_data_folder --dest_path ./output"
   ]
  },
  {
   "cell_type": "code",
   "execution_count": 12,
   "id": "0c508266",
   "metadata": {},
   "outputs": [
    {
     "name": "stdout",
     "output_type": "stream",
     "text": [
      "[PosixPath('output/dv.pkl'), PosixPath('output/val.pkl'), PosixPath('output/test.pkl'), PosixPath('output/train.pkl')]\n",
      "\n",
      "DictVectorizer file size is 150.05859375 KB\n"
     ]
    }
   ],
   "source": [
    "from pathlib import Path\n",
    "\n",
    "output_fld = Path(\"./output/\")\n",
    "\n",
    "print(list(output_fld.iterdir()), end='\\n\\n')\n",
    "\n",
    "dict_vectorizer_file = output_fld.joinpath(\"dv.pkl\")\n",
    "\n",
    "print(f\"DictVectorizer file size is {dict_vectorizer_file.stat().st_size / 1024} KB\")"
   ]
  },
  {
   "cell_type": "markdown",
   "id": "f2548b21",
   "metadata": {},
   "source": [
    "# Q3. Train a model with autolog\n"
   ]
  },
  {
   "cell_type": "code",
   "execution_count": 13,
   "id": "6c28375f",
   "metadata": {},
   "outputs": [
    {
     "name": "stdout",
     "output_type": "stream",
     "text": [
      "2023/06/01 14:13:10 INFO mlflow.tracking.fluent: Experiment with name 'random-forest-regressor' does not exist. Creating a new experiment.\n",
      "2023/06/01 14:13:20 WARNING mlflow.utils.autologging_utils: MLflow autologging encountered a warning: \"/home/shane/miniconda3/envs/exp-tracking-env/lib/python3.9/site-packages/_distutils_hack/__init__.py:33: UserWarning: Setuptools is replacing distutils.\"\n"
     ]
    }
   ],
   "source": [
    "!python train.py"
   ]
  },
  {
   "cell_type": "markdown",
   "id": "ecf8101d",
   "metadata": {},
   "source": [
    "![mlflow ui](img/mlflow1.png)"
   ]
  },
  {
   "cell_type": "markdown",
   "id": "df66f16e",
   "metadata": {},
   "source": [
    "![mlflow ui](img/mlflow2.png)"
   ]
  },
  {
   "cell_type": "markdown",
   "id": "fa2c7c0d",
   "metadata": {},
   "source": [
    "What is the value of the max_depth parameter:\n",
    "\n",
    "The value of the max_depth parameter is *10*."
   ]
  },
  {
   "cell_type": "markdown",
   "id": "3abaca3f",
   "metadata": {},
   "source": [
    "![max_depth](img/mlflow3.png)"
   ]
  },
  {
   "cell_type": "markdown",
   "id": "85c1db4e",
   "metadata": {},
   "source": [
    "# Q4. Tune model hyperparameters\n"
   ]
  },
  {
   "cell_type": "code",
   "execution_count": 18,
   "id": "9c90993e",
   "metadata": {},
   "outputs": [],
   "source": [
    "#!pip install optuna"
   ]
  },
  {
   "cell_type": "code",
   "execution_count": 19,
   "id": "f5bd9369",
   "metadata": {},
   "outputs": [
    {
     "name": "stdout",
     "output_type": "stream",
     "text": [
      "2023/06/01 14:32:28 INFO mlflow.tracking.fluent: Experiment with name 'random-forest-hyperopt' does not exist. Creating a new experiment.\n",
      "\u001b[32m[I 2023-06-01 14:32:28,628]\u001b[0m A new study created in memory with name: no-name-9afd0294-e470-47ab-92c2-8eb88d50eda5\u001b[0m\n",
      "\u001b[32m[I 2023-06-01 14:32:29,775]\u001b[0m Trial 0 finished with value: 2.451379690825458 and parameters: {'n_estimators': 25, 'max_depth': 20, 'min_samples_split': 8, 'min_samples_leaf': 3}. Best is trial 0 with value: 2.451379690825458.\u001b[0m\n",
      "\u001b[32m[I 2023-06-01 14:32:29,953]\u001b[0m Trial 1 finished with value: 2.4667366020368333 and parameters: {'n_estimators': 16, 'max_depth': 4, 'min_samples_split': 2, 'min_samples_leaf': 4}. Best is trial 0 with value: 2.451379690825458.\u001b[0m\n",
      "\u001b[32m[I 2023-06-01 14:32:30,934]\u001b[0m Trial 2 finished with value: 2.449827329704216 and parameters: {'n_estimators': 34, 'max_depth': 15, 'min_samples_split': 2, 'min_samples_leaf': 4}. Best is trial 2 with value: 2.449827329704216.\u001b[0m\n",
      "\u001b[32m[I 2023-06-01 14:32:31,340]\u001b[0m Trial 3 finished with value: 2.460983516558473 and parameters: {'n_estimators': 44, 'max_depth': 5, 'min_samples_split': 3, 'min_samples_leaf': 1}. Best is trial 2 with value: 2.449827329704216.\u001b[0m\n",
      "\u001b[32m[I 2023-06-01 14:32:31,752]\u001b[0m Trial 4 finished with value: 2.453877262701052 and parameters: {'n_estimators': 22, 'max_depth': 11, 'min_samples_split': 5, 'min_samples_leaf': 2}. Best is trial 2 with value: 2.449827329704216.\u001b[0m\n",
      "\u001b[32m[I 2023-06-01 14:32:31,993]\u001b[0m Trial 5 finished with value: 2.4720122094960733 and parameters: {'n_estimators': 35, 'max_depth': 3, 'min_samples_split': 4, 'min_samples_leaf': 2}. Best is trial 2 with value: 2.449827329704216.\u001b[0m\n",
      "\u001b[32m[I 2023-06-01 14:32:32,904]\u001b[0m Trial 6 finished with value: 2.4516421799356767 and parameters: {'n_estimators': 28, 'max_depth': 16, 'min_samples_split': 3, 'min_samples_leaf': 3}. Best is trial 2 with value: 2.449827329704216.\u001b[0m\n",
      "\u001b[32m[I 2023-06-01 14:32:33,088]\u001b[0m Trial 7 finished with value: 2.5374040268274087 and parameters: {'n_estimators': 34, 'max_depth': 1, 'min_samples_split': 7, 'min_samples_leaf': 1}. Best is trial 2 with value: 2.449827329704216.\u001b[0m\n",
      "\u001b[32m[I 2023-06-01 14:32:33,579]\u001b[0m Trial 8 finished with value: 2.455971238567075 and parameters: {'n_estimators': 12, 'max_depth': 19, 'min_samples_split': 10, 'min_samples_leaf': 4}. Best is trial 2 with value: 2.449827329704216.\u001b[0m\n",
      "\u001b[32m[I 2023-06-01 14:32:33,728]\u001b[0m Trial 9 finished with value: 2.486106021576535 and parameters: {'n_estimators': 22, 'max_depth': 2, 'min_samples_split': 8, 'min_samples_leaf': 2}. Best is trial 2 with value: 2.449827329704216.\u001b[0m\n"
     ]
    }
   ],
   "source": [
    "!python hpo.py"
   ]
  },
  {
   "cell_type": "code",
   "execution_count": null,
   "id": "55f03ea5",
   "metadata": {},
   "outputs": [],
   "source": [
    "The best validation RMSE"
   ]
  }
 ],
 "metadata": {
  "kernelspec": {
   "display_name": "Python 3 (ipykernel)",
   "language": "python",
   "name": "python3"
  },
  "language_info": {
   "codemirror_mode": {
    "name": "ipython",
    "version": 3
   },
   "file_extension": ".py",
   "mimetype": "text/x-python",
   "name": "python",
   "nbconvert_exporter": "python",
   "pygments_lexer": "ipython3",
   "version": "3.9.16"
  }
 },
 "nbformat": 4,
 "nbformat_minor": 5
}
