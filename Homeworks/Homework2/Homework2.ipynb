{
 "cells": [
  {
   "cell_type": "markdown",
   "id": "7a08eb9d",
   "metadata": {},
   "source": [
    "# Q1. Install the package\n"
   ]
  },
  {
   "cell_type": "code",
   "execution_count": 1,
   "id": "f882013a",
   "metadata": {},
   "outputs": [
    {
     "name": "stdout",
     "output_type": "stream",
     "text": [
      "/usr/lib/python3/dist-packages/requests/__init__.py:89: RequestsDependencyWarning: urllib3 (1.26.16) or chardet (3.0.4) doesn't match a supported version!\n",
      "  warnings.warn(\"urllib3 ({}) or chardet ({}) doesn't match a supported \"\n",
      "mlflow, version 2.3.2\n"
     ]
    }
   ],
   "source": [
    "!mlflow --version"
   ]
  },
  {
   "cell_type": "markdown",
   "id": "2f5ab158",
   "metadata": {},
   "source": [
    "# Q2. Download and preprocess the data\n"
   ]
  },
  {
   "cell_type": "code",
   "execution_count": 2,
   "id": "bb6aced3",
   "metadata": {},
   "outputs": [],
   "source": [
    "taxi_data_folder = \"./data/\"\n",
    "\n",
    "!python preprocess_data.py --raw_data_path $taxi_data_folder --dest_path ./output"
   ]
  },
  {
   "cell_type": "code",
   "execution_count": 12,
   "id": "9afa78b2",
   "metadata": {},
   "outputs": [
    {
     "name": "stdout",
     "output_type": "stream",
     "text": [
      "[PosixPath('output/dv.pkl'), PosixPath('output/val.pkl'), PosixPath('output/test.pkl'), PosixPath('output/train.pkl')]\n",
      "\n",
      "DictVectorizer file size is 150.05859375 KB\n"
     ]
    }
   ],
   "source": [
    "from pathlib import Path\n",
    "\n",
    "output_fld = Path(\"./output/\")\n",
    "\n",
    "print(list(output_fld.iterdir()), end='\\n\\n')\n",
    "\n",
    "dict_vectorizer_file = output_fld.joinpath(\"dv.pkl\")\n",
    "\n",
    "print(f\"DictVectorizer file size is {dict_vectorizer_file.stat().st_size / 1024} KB\")"
   ]
  },
  {
   "cell_type": "markdown",
   "id": "d90164f5",
   "metadata": {},
   "source": [
    "# Q3. Train a model with autolog\n"
   ]
  },
  {
   "cell_type": "code",
   "execution_count": null,
   "id": "e2e7aa89",
   "metadata": {},
   "outputs": [],
   "source": []
  }
 ],
 "metadata": {
  "kernelspec": {
   "display_name": "Python 3 (ipykernel)",
   "language": "python",
   "name": "python3"
  },
  "language_info": {
   "codemirror_mode": {
    "name": "ipython",
    "version": 3
   },
   "file_extension": ".py",
   "mimetype": "text/x-python",
   "name": "python",
   "nbconvert_exporter": "python",
   "pygments_lexer": "ipython3",
   "version": "3.9.16"
  }
 },
 "nbformat": 4,
 "nbformat_minor": 5
}
