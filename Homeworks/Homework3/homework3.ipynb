{
 "cells": [
  {
   "cell_type": "markdown",
   "id": "c5a28f25",
   "metadata": {},
   "source": [
    "# Q1. Human-readable name\n"
   ]
  },
  {
   "cell_type": "markdown",
   "id": "225424a9",
   "metadata": {},
   "source": [
    "We can specify the task name by using\n",
    "\n",
    "@task(retries=3, retry_delay_seconds=2, name=\"Read taxi data\")\n"
   ]
  },
  {
   "cell_type": "markdown",
   "id": "39359a1f",
   "metadata": {},
   "source": [
    "# Q2. Cron\n"
   ]
  },
  {
   "cell_type": "markdown",
   "id": "2e691a92",
   "metadata": {},
   "source": [
    "The screenshot is using the crontab.guru[https://crontab.guru/#0_9_3_*_*]"
   ]
  },
  {
   "cell_type": "markdown",
   "id": "71e71ac0",
   "metadata": {},
   "source": [
    "![cron](imgs/cron.png)"
   ]
  },
  {
   "cell_type": "markdown",
   "id": "edae7d45",
   "metadata": {},
   "source": [
    "The correct answer is 0 9 3 * *\n"
   ]
  },
  {
   "cell_type": "markdown",
   "id": "fa672367",
   "metadata": {},
   "source": [
    "# Q3. RMSE\n"
   ]
  },
  {
   "cell_type": "markdown",
   "id": "0260764d",
   "metadata": {},
   "source": [
    "The data path is added before performing custom run."
   ]
  },
  {
   "cell_type": "markdown",
   "id": "3a1d22ce",
   "metadata": {},
   "source": [
    "![data custom](imgs/para.png)"
   ]
  },
  {
   "cell_type": "markdown",
   "id": "05ece972",
   "metadata": {},
   "source": [
    "The results in UI"
   ]
  },
  {
   "cell_type": "markdown",
   "id": "cfe3abda",
   "metadata": {},
   "source": [
    "![result](imgs/val_rmse.png)"
   ]
  },
  {
   "cell_type": "markdown",
   "id": "788e148e",
   "metadata": {},
   "source": [
    "The rmse value is 5.19931"
   ]
  },
  {
   "cell_type": "markdown",
   "id": "6c1cc62f",
   "metadata": {},
   "source": [
    "# Q4. RMSE (Markdown Artifact)\n"
   ]
  },
  {
   "cell_type": "markdown",
   "id": "94e9b397",
   "metadata": {},
   "source": [
    "![markdown](imgs/markdown.png)"
   ]
  },
  {
   "cell_type": "markdown",
   "id": "6151bf8b",
   "metadata": {},
   "source": [
    "The answer is 5.37"
   ]
  },
  {
   "cell_type": "markdown",
   "id": "f853200b",
   "metadata": {},
   "source": [
    "# Q5. Emails\n"
   ]
  },
  {
   "cell_type": "markdown",
   "id": "d8004bbd",
   "metadata": {},
   "source": [
    "Email block is created using create_email_block.py"
   ]
  },
  {
   "cell_type": "markdown",
   "id": "1408e55f",
   "metadata": {},
   "source": [
    "![email_block](imgs/email_block.png)"
   ]
  },
  {
   "cell_type": "markdown",
   "id": "41bcb212",
   "metadata": {},
   "source": [
    "The name of the pre-built prefect-email task function is email_send_message"
   ]
  },
  {
   "cell_type": "markdown",
   "id": "5c604b5c",
   "metadata": {},
   "source": [
    "![email](imgs/email.png)"
   ]
  },
  {
   "cell_type": "markdown",
   "id": "d867b695",
   "metadata": {},
   "source": [
    "# Q6. Prefect Cloud\n"
   ]
  },
  {
   "cell_type": "markdown",
   "id": "bba0845c",
   "metadata": {},
   "source": [
    "![action](imgs/action.png)"
   ]
  },
  {
   "cell_type": "markdown",
   "id": "efe5cdf3",
   "metadata": {},
   "source": [
    " the name of the second step in the Automation creation process is actions."
   ]
  }
 ],
 "metadata": {
  "kernelspec": {
   "display_name": "Python 3 (ipykernel)",
   "language": "python",
   "name": "python3"
  },
  "language_info": {
   "codemirror_mode": {
    "name": "ipython",
    "version": 3
   },
   "file_extension": ".py",
   "mimetype": "text/x-python",
   "name": "python",
   "nbconvert_exporter": "python",
   "pygments_lexer": "ipython3",
   "version": "3.11.4"
  }
 },
 "nbformat": 4,
 "nbformat_minor": 5
}
