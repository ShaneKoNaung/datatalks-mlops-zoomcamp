{
 "cells": [
  {
   "cell_type": "code",
   "execution_count": 1,
   "id": "2c51efaa",
   "metadata": {},
   "outputs": [
    {
     "name": "stdout",
     "output_type": "stream",
     "text": [
      "scikit-learn==1.2.2\n"
     ]
    }
   ],
   "source": [
    "!pip freeze | grep scikit-learn"
   ]
  },
  {
   "cell_type": "code",
   "execution_count": 2,
   "id": "0ef880a0",
   "metadata": {},
   "outputs": [],
   "source": [
    "import pickle\n",
    "import pandas as pd"
   ]
  },
  {
   "cell_type": "code",
   "execution_count": 3,
   "id": "7836ccfd",
   "metadata": {},
   "outputs": [],
   "source": [
    "with open('model.bin', 'rb') as f_in:\n",
    "    dv, model = pickle.load(f_in)"
   ]
  },
  {
   "cell_type": "code",
   "execution_count": 4,
   "id": "41c08294",
   "metadata": {},
   "outputs": [],
   "source": [
    "categorical = ['PULocationID', 'DOLocationID']\n",
    "\n",
    "def read_data(filename):\n",
    "    df = pd.read_parquet(filename)\n",
    "    \n",
    "    df['duration'] = df.tpep_dropoff_datetime - df.tpep_pickup_datetime\n",
    "    df['duration'] = df.duration.dt.total_seconds() / 60\n",
    "\n",
    "    df = df[(df.duration >= 1) & (df.duration <= 60)].copy()\n",
    "\n",
    "    df[categorical] = df[categorical].fillna(-1).astype('int').astype('str')\n",
    "    \n",
    "    return df"
   ]
  },
  {
   "cell_type": "code",
   "execution_count": 6,
   "id": "4854399a",
   "metadata": {},
   "outputs": [],
   "source": [
    "df = read_data('https://d37ci6vzurychx.cloudfront.net/trip-data/yellow_tripdata_2022-02.parquet')"
   ]
  },
  {
   "cell_type": "code",
   "execution_count": 7,
   "id": "669fda0a",
   "metadata": {},
   "outputs": [],
   "source": [
    "dicts = df[categorical].to_dict(orient='records')\n",
    "X_val = dv.transform(dicts)\n",
    "y_pred = model.predict(X_val)"
   ]
  },
  {
   "attachments": {},
   "cell_type": "markdown",
   "id": "c5c02bd3",
   "metadata": {},
   "source": [
    "# Q1. Notebook\n"
   ]
  },
  {
   "cell_type": "code",
   "execution_count": 10,
   "id": "4b8cc6e6",
   "metadata": {},
   "outputs": [
    {
     "name": "stdout",
     "output_type": "stream",
     "text": [
      "The standard deviation of the predicted duration of this dataset is 5.28140357655334\n"
     ]
    }
   ],
   "source": [
    "print(f\"The standard deviation of the predicted duration of this dataset is {y_pred.std()}\")"
   ]
  },
  {
   "attachments": {},
   "cell_type": "markdown",
   "id": "ef744224",
   "metadata": {},
   "source": [
    "# Q2. Preparing the output\n"
   ]
  },
  {
   "cell_type": "code",
   "execution_count": 18,
   "id": "9e873351",
   "metadata": {},
   "outputs": [],
   "source": [
    "year = 2022\n",
    "month = 2\n",
    "output_file = f\"output_yellow_tripdata_{year:04d}-{month:02d}.parquet\"\n",
    "\n",
    "df['ride_id'] = f'{year:04d}/{month:02d}_' + df.index.astype('str')\n",
    "\n",
    "df_result = pd.DataFrame({'ride_id' : df['ride_id'], 'preds' :  y_pred})\n",
    "\n",
    "df_result.to_parquet(\n",
    "    output_file,\n",
    "    engine='pyarrow',\n",
    "    compression=None,\n",
    "    index=False\n",
    ")\n"
   ]
  },
  {
   "cell_type": "code",
   "execution_count": 25,
   "id": "04bafb0b",
   "metadata": {},
   "outputs": [
    {
     "name": "stdout",
     "output_type": "stream",
     "text": [
      "The size of the output file is 57.215517\n"
     ]
    }
   ],
   "source": [
    "from pathlib import Path\n",
    "\n",
    "print(f\"The size of the output file is {Path(output_file).stat().st_size / (1024 * 1024):2f}\")"
   ]
  },
  {
   "attachments": {},
   "cell_type": "markdown",
   "id": "aa86adc2",
   "metadata": {},
   "source": [
    "# Q3. Creating the scoring script\n"
   ]
  },
  {
   "cell_type": "code",
   "execution_count": 26,
   "id": "072a2d48",
   "metadata": {},
   "outputs": [
    {
     "name": "stdout",
     "output_type": "stream",
     "text": [
      "[NbConvertApp] Converting notebook starter.ipynb to script\n",
      "[NbConvertApp] Writing 1586 bytes to starter.py\n"
     ]
    }
   ],
   "source": [
    "!jupyter nbconvert --to script starter.ipynb"
   ]
  },
  {
   "attachments": {},
   "cell_type": "markdown",
   "id": "42aa04eb",
   "metadata": {},
   "source": [
    "# Q4. Virtual environment\n"
   ]
  },
  {
   "attachments": {},
   "cell_type": "markdown",
   "id": "68f3860c",
   "metadata": {},
   "source": [
    "The first hash for the scikit-learn dependency is **sha256:065e9673e24e0dc5113e2dd2b4ca30c9d8aa2fa90f4c0597241c93b63130d233**"
   ]
  },
  {
   "attachments": {},
   "cell_type": "markdown",
   "id": "64af430a",
   "metadata": {},
   "source": [
    "# Q5. Parametrize the script\n"
   ]
  },
  {
   "attachments": {},
   "cell_type": "markdown",
   "id": "f44b33a8",
   "metadata": {},
   "source": [
    "The mean predicted duration for Mach 2022 dataset is 12.758556818790902."
   ]
  },
  {
   "attachments": {},
   "cell_type": "markdown",
   "id": "b00ccb72",
   "metadata": {},
   "source": [
    "# Q6. Docker container\n"
   ]
  },
  {
   "attachments": {},
   "cell_type": "markdown",
   "id": "c72b9d5c",
   "metadata": {},
   "source": [
    " The mean predicted duration for April 2022 is 12.827242870079969."
   ]
  }
 ],
 "metadata": {
  "kernelspec": {
   "display_name": "Python 3 (ipykernel)",
   "language": "python",
   "name": "python3"
  },
  "language_info": {
   "codemirror_mode": {
    "name": "ipython",
    "version": 3
   },
   "file_extension": ".py",
   "mimetype": "text/x-python",
   "name": "python",
   "nbconvert_exporter": "python",
   "pygments_lexer": "ipython3",
   "version": "3.11.3"
  }
 },
 "nbformat": 4,
 "nbformat_minor": 5
}
