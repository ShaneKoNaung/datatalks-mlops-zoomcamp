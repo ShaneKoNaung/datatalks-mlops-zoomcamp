{
 "cells": [
  {
   "cell_type": "markdown",
   "id": "228e86d3",
   "metadata": {},
   "source": [
    "# Q1. Prepare the dataset\n"
   ]
  },
  {
   "cell_type": "markdown",
   "id": "a1bf9913",
   "metadata": {},
   "source": [
    "The shape of the downloaded data is 72044"
   ]
  },
  {
   "cell_type": "markdown",
   "id": "6826b126",
   "metadata": {},
   "source": [
    "# Q2. Metric\n"
   ]
  },
  {
   "cell_type": "markdown",
   "id": "46c8b69e",
   "metadata": {},
   "source": [
    "I chose ColumnCorrelationsMetric."
   ]
  },
  {
   "cell_type": "markdown",
   "id": "3705190f",
   "metadata": {},
   "source": [
    "# Q3. Prefect flow\n"
   ]
  },
  {
   "cell_type": "markdown",
   "id": "efd43b9e",
   "metadata": {},
   "source": [
    "The correct way of doing that is @task(retries=2, retry_delay_seconds=5, name=\"calculate metrics\")\n"
   ]
  },
  {
   "cell_type": "markdown",
   "id": "fea83dfe",
   "metadata": {},
   "source": [
    "# Q4. Monitoring\n"
   ]
  },
  {
   "cell_type": "markdown",
   "id": "6a1fc5e3",
   "metadata": {},
   "source": [
    "The maximum value of metric quantile = 0.5 on th \"fare_amount\" column during March 2023 (calculated daily) is 14.\n"
   ]
  },
  {
   "cell_type": "markdown",
   "id": "79b9e0c9",
   "metadata": {},
   "source": [
    "# Q5. Dashboard\n"
   ]
  },
  {
   "cell_type": "markdown",
   "id": "9a76dec3",
   "metadata": {},
   "source": [
    "We should place a dashboard config file here.\n",
    "\n",
    " project_folder/dashboards (05-monitoring/dashboards)"
   ]
  }
 ],
 "metadata": {
  "kernelspec": {
   "display_name": "Python 3 (ipykernel)",
   "language": "python",
   "name": "python3"
  },
  "language_info": {
   "codemirror_mode": {
    "name": "ipython",
    "version": 3
   },
   "file_extension": ".py",
   "mimetype": "text/x-python",
   "name": "python",
   "nbconvert_exporter": "python",
   "pygments_lexer": "ipython3",
   "version": "3.11.4"
  }
 },
 "nbformat": 4,
 "nbformat_minor": 5
}
